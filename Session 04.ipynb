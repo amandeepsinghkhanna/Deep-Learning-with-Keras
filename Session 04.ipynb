{
 "cells": [
  {
   "cell_type": "markdown",
   "metadata": {},
   "source": [
    "## Keras Callbacks:\n",
    "\n",
    "1. Using the model history callback."
   ]
  },
  {
   "cell_type": "code",
   "execution_count": 1,
   "metadata": {},
   "outputs": [
    {
     "name": "stdout",
     "output_type": "stream",
     "text": [
      "Dimensions of x before one-hot encoding are: (150, 4)\n",
      "Dimensions of y before one-hot encoding are: (150,)\n",
      "Dimensions of x after one-hot encoding are: (150, 4)\n",
      "Dimensions of encoded_y are: (150, 3)\n"
     ]
    }
   ],
   "source": [
    "# Importing the required modules:\n",
    "from keras.models import Sequential\n",
    "from keras.layers import Dense\n",
    "from sklearn.datasets import load_iris\n",
    "from sklearn.preprocessing import OneHotEncoder # To apply one-hot encoding on the target.\n",
    "from sklearn.model_selection import train_test_split\n",
    "\n",
    "# Loading the input data:\n",
    "x, y = load_iris(return_X_y=True)\n",
    "\n",
    "print(\"Dimensions of x before one-hot encoding are:\", x.shape)\n",
    "print(\"Dimensions of y before one-hot encoding are:\", y.shape)\n",
    "\n",
    "# Applying one-hot encoding on the target column:\n",
    "encoder = OneHotEncoder()\n",
    "encoded_y = (\n",
    "    encoder\n",
    "    .fit_transform(y.reshape(-1, 1))\n",
    "    .todense()\n",
    ")\n",
    "\n",
    "print(\"Dimensions of x after one-hot encoding are:\", x.shape)\n",
    "print(\"Dimensions of encoded_y are:\", encoded_y.shape)\n",
    "\n",
    "# Splitting the input data into training and testing datasets: \n",
    "x_train, x_test, y_train, y_test = train_test_split(\n",
    "    x, encoded_y,\n",
    "    test_size=0.25,\n",
    "    random_state=1024\n",
    ")\n",
    "\n",
    "# Defining the keras neural network:\n",
    "model = Sequential()\n",
    "\n",
    "# Input layer:\n",
    "model.add(Dense(10, input_shape=(4,)))\n",
    "\n",
    "# Hidden Layer:\n",
    "model.add(Dense(100, activation='relu'))\n",
    "\n",
    "# Output Layer:\n",
    "model.add(Dense(3, activation='softmax'))"
   ]
  },
  {
   "cell_type": "code",
   "execution_count": 2,
   "metadata": {},
   "outputs": [],
   "source": [
    "# Compiling the neural network:\n",
    "model.compile(optimizer='adam', loss='categorical_crossentropy')"
   ]
  },
  {
   "cell_type": "code",
   "execution_count": 3,
   "metadata": {},
   "outputs": [
    {
     "name": "stdout",
     "output_type": "stream",
     "text": [
      "Model: \"sequential\"\n",
      "_________________________________________________________________\n",
      "Layer (type)                 Output Shape              Param #   \n",
      "=================================================================\n",
      "dense (Dense)                (None, 10)                50        \n",
      "_________________________________________________________________\n",
      "dense_1 (Dense)              (None, 100)               1100      \n",
      "_________________________________________________________________\n",
      "dense_2 (Dense)              (None, 3)                 303       \n",
      "=================================================================\n",
      "Total params: 1,453\n",
      "Trainable params: 1,453\n",
      "Non-trainable params: 0\n",
      "_________________________________________________________________\n"
     ]
    }
   ],
   "source": [
    "# Checking the structure of the neural network:\n",
    "model.summary()"
   ]
  },
  {
   "cell_type": "code",
   "execution_count": 16,
   "metadata": {},
   "outputs": [
    {
     "name": "stdout",
     "output_type": "stream",
     "text": [
      "Epoch 1/30\n",
      "3/3 [==============================] - 0s 20ms/step - loss: 0.2980 - val_loss: 0.2795\n",
      "Epoch 2/30\n",
      "3/3 [==============================] - 0s 13ms/step - loss: 0.2895 - val_loss: 0.2899\n",
      "Epoch 3/30\n",
      "3/3 [==============================] - 0s 13ms/step - loss: 0.2833 - val_loss: 0.2893\n",
      "Epoch 4/30\n",
      "3/3 [==============================] - 0s 11ms/step - loss: 0.2796 - val_loss: 0.2752\n",
      "Epoch 5/30\n",
      "3/3 [==============================] - 0s 16ms/step - loss: 0.2712 - val_loss: 0.2660\n",
      "Epoch 6/30\n",
      "3/3 [==============================] - 0s 12ms/step - loss: 0.2640 - val_loss: 0.2501\n",
      "Epoch 7/30\n",
      "3/3 [==============================] - 0s 11ms/step - loss: 0.2660 - val_loss: 0.2356\n",
      "Epoch 8/30\n",
      "3/3 [==============================] - 0s 11ms/step - loss: 0.2553 - val_loss: 0.2434\n",
      "Epoch 9/30\n",
      "3/3 [==============================] - 0s 11ms/step - loss: 0.2476 - val_loss: 0.2614\n",
      "Epoch 10/30\n",
      "3/3 [==============================] - 0s 12ms/step - loss: 0.2468 - val_loss: 0.2520\n",
      "Epoch 11/30\n",
      "3/3 [==============================] - 0s 13ms/step - loss: 0.2390 - val_loss: 0.2363\n",
      "Epoch 12/30\n",
      "3/3 [==============================] - 0s 9ms/step - loss: 0.2329 - val_loss: 0.2158\n",
      "Epoch 13/30\n",
      "3/3 [==============================] - 0s 11ms/step - loss: 0.2336 - val_loss: 0.2054\n",
      "Epoch 14/30\n",
      "3/3 [==============================] - 0s 12ms/step - loss: 0.2241 - val_loss: 0.2153\n",
      "Epoch 15/30\n",
      "3/3 [==============================] - 0s 10ms/step - loss: 0.2178 - val_loss: 0.2251\n",
      "Epoch 16/30\n",
      "3/3 [==============================] - 0s 13ms/step - loss: 0.2148 - val_loss: 0.2167\n",
      "Epoch 17/30\n",
      "3/3 [==============================] - 0s 9ms/step - loss: 0.2096 - val_loss: 0.1993\n",
      "Epoch 18/30\n",
      "3/3 [==============================] - 0s 10ms/step - loss: 0.2045 - val_loss: 0.1909\n",
      "Epoch 19/30\n",
      "3/3 [==============================] - 0s 11ms/step - loss: 0.2006 - val_loss: 0.1879\n",
      "Epoch 20/30\n",
      "3/3 [==============================] - 0s 13ms/step - loss: 0.1974 - val_loss: 0.1966\n",
      "Epoch 21/30\n",
      "3/3 [==============================] - 0s 9ms/step - loss: 0.1939 - val_loss: 0.1902\n",
      "Epoch 22/30\n",
      "3/3 [==============================] - 0s 9ms/step - loss: 0.1854 - val_loss: 0.1739\n",
      "Epoch 23/30\n",
      "3/3 [==============================] - 0s 10ms/step - loss: 0.1831 - val_loss: 0.1650\n",
      "Epoch 24/30\n",
      "3/3 [==============================] - 0s 9ms/step - loss: 0.1796 - val_loss: 0.1665\n",
      "Epoch 25/30\n",
      "3/3 [==============================] - 0s 9ms/step - loss: 0.1752 - val_loss: 0.1679\n",
      "Epoch 26/30\n",
      "3/3 [==============================] - 0s 9ms/step - loss: 0.1702 - val_loss: 0.1615\n",
      "Epoch 27/30\n",
      "3/3 [==============================] - 0s 11ms/step - loss: 0.1668 - val_loss: 0.1568\n",
      "Epoch 28/30\n",
      "3/3 [==============================] - 0s 9ms/step - loss: 0.1630 - val_loss: 0.1606\n",
      "Epoch 29/30\n",
      "3/3 [==============================] - 0s 11ms/step - loss: 0.1594 - val_loss: 0.1571\n",
      "Epoch 30/30\n",
      "3/3 [==============================] - 0s 11ms/step - loss: 0.1571 - val_loss: 0.1476\n"
     ]
    }
   ],
   "source": [
    "# Training the neural network while keeping a track of the history:\n",
    "model_history = model.fit(x_train, y_train, epochs=30, validation_split=0.3)"
   ]
  },
  {
   "cell_type": "code",
   "execution_count": 17,
   "metadata": {},
   "outputs": [
    {
     "data": {
      "text/plain": [
       "{'loss': [0.29796966910362244,\n",
       "  0.2894618809223175,\n",
       "  0.2832752466201782,\n",
       "  0.27960437536239624,\n",
       "  0.27124136686325073,\n",
       "  0.26399993896484375,\n",
       "  0.26596835255622864,\n",
       "  0.25529342889785767,\n",
       "  0.24764110147953033,\n",
       "  0.24684113264083862,\n",
       "  0.23896105587482452,\n",
       "  0.23293471336364746,\n",
       "  0.23358581960201263,\n",
       "  0.22410167753696442,\n",
       "  0.21778632700443268,\n",
       "  0.21483533084392548,\n",
       "  0.20963722467422485,\n",
       "  0.20450007915496826,\n",
       "  0.2005992829799652,\n",
       "  0.19735202193260193,\n",
       "  0.19394204020500183,\n",
       "  0.18538649380207062,\n",
       "  0.18311536312103271,\n",
       "  0.17964927852153778,\n",
       "  0.1751524657011032,\n",
       "  0.17019234597682953,\n",
       "  0.16684673726558685,\n",
       "  0.16295604407787323,\n",
       "  0.15938659012317657,\n",
       "  0.1570642739534378],\n",
       " 'val_loss': [0.27949440479278564,\n",
       "  0.2899226248264313,\n",
       "  0.2893372178077698,\n",
       "  0.2752000391483307,\n",
       "  0.26600074768066406,\n",
       "  0.250070720911026,\n",
       "  0.23564215004444122,\n",
       "  0.24337799847126007,\n",
       "  0.26141753792762756,\n",
       "  0.2519558370113373,\n",
       "  0.236271470785141,\n",
       "  0.21578723192214966,\n",
       "  0.2053755819797516,\n",
       "  0.21534951031208038,\n",
       "  0.22508500516414642,\n",
       "  0.21673351526260376,\n",
       "  0.19934532046318054,\n",
       "  0.19093798100948334,\n",
       "  0.18785881996154785,\n",
       "  0.19658173620700836,\n",
       "  0.19021546840667725,\n",
       "  0.17388705909252167,\n",
       "  0.1649978756904602,\n",
       "  0.16653969883918762,\n",
       "  0.167915940284729,\n",
       "  0.16150210797786713,\n",
       "  0.1568484902381897,\n",
       "  0.16061247885227203,\n",
       "  0.1570502519607544,\n",
       "  0.14755085110664368]}"
      ]
     },
     "execution_count": 17,
     "metadata": {},
     "output_type": "execute_result"
    }
   ],
   "source": [
    "# The dictionary containing model metrics for each epoch:\n",
    "model_history.history "
   ]
  },
  {
   "cell_type": "code",
   "execution_count": 18,
   "metadata": {},
   "outputs": [
    {
     "data": {
      "text/plain": [
       "<AxesSubplot:>"
      ]
     },
     "execution_count": 18,
     "metadata": {},
     "output_type": "execute_result"
    },
    {
     "data": {
      "image/png": "[encoded data removed]",
      "text/plain": [
       "<Figure size 1080x576 with 1 Axes>"
      ]
     },
     "metadata": {
      "needs_background": "light"
     },
     "output_type": "display_data"
    }
   ],
   "source": [
    "import pandas as pd\n",
    "historic_information = pd.DataFrame(model_history.history)\n",
    "historic_information.plot(figsize=(15, 8))"
   ]
  },
  {
   "cell_type": "markdown",
   "metadata": {},
   "source": [
    "2. Using the early-stopping callback:"
   ]
  },
  {
   "cell_type": "code",
   "execution_count": 22,
   "metadata": {},
   "outputs": [
    {
     "name": "stdout",
     "output_type": "stream",
     "text": [
      "Epoch 1/100\n",
      "3/3 [==============================] - 0s 24ms/step - loss: 0.1365 - val_loss: 0.1365\n",
      "Epoch 2/100\n",
      "3/3 [==============================] - 0s 14ms/step - loss: 0.1304 - val_loss: 0.1175\n",
      "Epoch 3/100\n",
      "3/3 [==============================] - 0s 14ms/step - loss: 0.1305 - val_loss: 0.1136\n",
      "Epoch 4/100\n",
      "3/3 [==============================] - 0s 14ms/step - loss: 0.1280 - val_loss: 0.1187\n",
      "Epoch 5/100\n",
      "3/3 [==============================] - 0s 14ms/step - loss: 0.1249 - val_loss: 0.1327\n",
      "Epoch 6/100\n",
      "3/3 [==============================] - 0s 9ms/step - loss: 0.1215 - val_loss: 0.1297\n",
      "Epoch 7/100\n",
      "3/3 [==============================] - 0s 11ms/step - loss: 0.1190 - val_loss: 0.1221\n",
      "Epoch 8/100\n",
      "3/3 [==============================] - 0s 14ms/step - loss: 0.1174 - val_loss: 0.1099\n",
      "Epoch 9/100\n",
      "3/3 [==============================] - 0s 9ms/step - loss: 0.1153 - val_loss: 0.1079\n",
      "Epoch 10/100\n",
      "3/3 [==============================] - 0s 15ms/step - loss: 0.1121 - val_loss: 0.1189\n",
      "Epoch 11/100\n",
      "3/3 [==============================] - 0s 11ms/step - loss: 0.1118 - val_loss: 0.1307\n",
      "Epoch 12/100\n",
      "3/3 [==============================] - 0s 14ms/step - loss: 0.1097 - val_loss: 0.1166\n",
      "Epoch 13/100\n",
      "3/3 [==============================] - 0s 10ms/step - loss: 0.1065 - val_loss: 0.0990\n",
      "Epoch 14/100\n",
      "3/3 [==============================] - 0s 10ms/step - loss: 0.1061 - val_loss: 0.0978\n",
      "Epoch 15/100\n",
      "3/3 [==============================] - 0s 15ms/step - loss: 0.1038 - val_loss: 0.1006\n",
      "Epoch 16/100\n",
      "3/3 [==============================] - 0s 16ms/step - loss: 0.1011 - val_loss: 0.1133\n",
      "Epoch 17/100\n",
      "3/3 [==============================] - 0s 13ms/step - loss: 0.0997 - val_loss: 0.1111\n",
      "Epoch 18/100\n",
      "3/3 [==============================] - 0s 10ms/step - loss: 0.0975 - val_loss: 0.1094\n",
      "Epoch 19/100\n",
      "3/3 [==============================] - 0s 12ms/step - loss: 0.0968 - val_loss: 0.1079\n",
      "Epoch 20/100\n",
      "3/3 [==============================] - 0s 9ms/step - loss: 0.0955 - val_loss: 0.0965\n",
      "Epoch 21/100\n",
      "3/3 [==============================] - 0s 11ms/step - loss: 0.0930 - val_loss: 0.0963\n",
      "Epoch 22/100\n",
      "3/3 [==============================] - 0s 9ms/step - loss: 0.0905 - val_loss: 0.1010\n",
      "Epoch 23/100\n",
      "3/3 [==============================] - 0s 9ms/step - loss: 0.0910 - val_loss: 0.1055\n",
      "Epoch 24/100\n",
      "3/3 [==============================] - 0s 11ms/step - loss: 0.0897 - val_loss: 0.1025\n",
      "Epoch 25/100\n",
      "3/3 [==============================] - 0s 9ms/step - loss: 0.0871 - val_loss: 0.0876\n",
      "Epoch 26/100\n",
      "3/3 [==============================] - 0s 9ms/step - loss: 0.0879 - val_loss: 0.0848\n",
      "Epoch 27/100\n",
      "3/3 [==============================] - 0s 9ms/step - loss: 0.0846 - val_loss: 0.1039\n",
      "Epoch 28/100\n",
      "3/3 [==============================] - 0s 9ms/step - loss: 0.0849 - val_loss: 0.1099\n",
      "Epoch 29/100\n",
      "3/3 [==============================] - 0s 8ms/step - loss: 0.0836 - val_loss: 0.1000\n",
      "Epoch 30/100\n",
      "3/3 [==============================] - 0s 8ms/step - loss: 0.0801 - val_loss: 0.0807\n",
      "Epoch 31/100\n",
      "3/3 [==============================] - 0s 9ms/step - loss: 0.0840 - val_loss: 0.0751\n",
      "Epoch 32/100\n",
      "3/3 [==============================] - 0s 11ms/step - loss: 0.0781 - val_loss: 0.0969\n",
      "Epoch 33/100\n",
      "3/3 [==============================] - 0s 9ms/step - loss: 0.0774 - val_loss: 0.1099\n",
      "Epoch 34/100\n",
      "3/3 [==============================] - 0s 10ms/step - loss: 0.0804 - val_loss: 0.1015\n",
      "Epoch 35/100\n",
      "3/3 [==============================] - 0s 8ms/step - loss: 0.0769 - val_loss: 0.0793\n",
      "Epoch 36/100\n",
      "3/3 [==============================] - 0s 10ms/step - loss: 0.0743 - val_loss: 0.0790\n",
      "Epoch 37/100\n",
      "3/3 [==============================] - 0s 11ms/step - loss: 0.0727 - val_loss: 0.0864\n",
      "Epoch 38/100\n",
      "3/3 [==============================] - 0s 10ms/step - loss: 0.0720 - val_loss: 0.0976\n",
      "Epoch 39/100\n",
      "3/3 [==============================] - 0s 11ms/step - loss: 0.0723 - val_loss: 0.0956\n",
      "Epoch 40/100\n",
      "3/3 [==============================] - 0s 9ms/step - loss: 0.0712 - val_loss: 0.0866\n",
      "Epoch 41/100\n",
      "3/3 [==============================] - 0s 9ms/step - loss: 0.0693 - val_loss: 0.0820\n"
     ]
    }
   ],
   "source": [
    "# Import Statements:\n",
    "from keras.callbacks import EarlyStopping\n",
    "\n",
    "early_stopping = EarlyStopping(\n",
    "    monitor='val_loss', # Evaluation metric to be followed. \n",
    "    patience=10 # No. of epochs to be monitored before stopping the training process.\n",
    ")\n",
    "\n",
    "# Training the neural network with early stopping:\n",
    "model_history = model.fit(\n",
    "    x_train, \n",
    "    y_train, \n",
    "    epochs=100, \n",
    "    validation_split=0.3,\n",
    "    callbacks=[early_stopping]\n",
    ")"
   ]
  },
  {
   "cell_type": "markdown",
   "metadata": {},
   "source": [
    "Although we had defined 100 epochs...the training process stopped after just 41 epochs."
   ]
  },
  {
   "cell_type": "markdown",
   "metadata": {},
   "source": [
    "3. Implementing the model checkpoint callback:"
   ]
  },
  {
   "cell_type": "code",
   "execution_count": 27,
   "metadata": {},
   "outputs": [
    {
     "name": "stdout",
     "output_type": "stream",
     "text": [
      "Epoch 1/100\n",
      "3/3 [==============================] - 0s 26ms/step - loss: 0.0525 - val_loss: 0.0684\n",
      "Epoch 2/100\n",
      "3/3 [==============================] - 0s 11ms/step - loss: 0.0514 - val_loss: 0.0589\n",
      "Epoch 3/100\n",
      "3/3 [==============================] - 0s 16ms/step - loss: 0.0543 - val_loss: 0.0597\n",
      "Epoch 4/100\n",
      "3/3 [==============================] - 0s 14ms/step - loss: 0.0512 - val_loss: 0.0757\n",
      "Epoch 5/100\n",
      "3/3 [==============================] - 0s 12ms/step - loss: 0.0505 - val_loss: 0.0870\n",
      "Epoch 6/100\n",
      "3/3 [==============================] - 0s 13ms/step - loss: 0.0527 - val_loss: 0.0826\n",
      "Epoch 7/100\n",
      "3/3 [==============================] - 0s 10ms/step - loss: 0.0488 - val_loss: 0.0656\n",
      "Epoch 8/100\n",
      "3/3 [==============================] - 0s 11ms/step - loss: 0.0522 - val_loss: 0.0607\n",
      "Epoch 9/100\n",
      "3/3 [==============================] - 0s 9ms/step - loss: 0.0484 - val_loss: 0.0782\n",
      "Epoch 10/100\n",
      "3/3 [==============================] - 0s 12ms/step - loss: 0.0505 - val_loss: 0.0902\n",
      "Epoch 11/100\n",
      "3/3 [==============================] - 0s 15ms/step - loss: 0.0506 - val_loss: 0.0720\n",
      "Epoch 12/100\n",
      "3/3 [==============================] - 0s 14ms/step - loss: 0.0468 - val_loss: 0.0655\n"
     ]
    }
   ],
   "source": [
    "from keras.callbacks import ModelCheckpoint\n",
    "\n",
    "save_model_info = ModelCheckpoint(\n",
    "    'best_model.hdf5',\n",
    "    save_best_only=True\n",
    ")\n",
    "# Training the neural network with early stopping:\n",
    "model_history = model.fit(\n",
    "    x_train, \n",
    "    y_train, \n",
    "    epochs=100, \n",
    "    validation_split=0.3,\n",
    "    callbacks=[early_stopping, save_model_info]\n",
    ")"
   ]
  }
 ],
 "metadata": {
  "interpreter": {
   "hash": "6db09f8783d8e538cd60f174403c0c9a96dce6f60d996f6637bef8e6a2295b22"
  },
  "kernelspec": {
   "display_name": "Python 3.8.12 ('deeplearning')",
   "language": "python",
   "name": "python3"
  },
  "language_info": {
   "codemirror_mode": {
    "name": "ipython",
    "version": 3
   },
   "file_extension": ".py",
   "mimetype": "text/x-python",
   "name": "python",
   "nbconvert_exporter": "python",
   "pygments_lexer": "ipython3",
   "version": "3.8.12"
  },
  "orig_nbformat": 4
 },
 "nbformat": 4,
 "nbformat_minor": 2
}

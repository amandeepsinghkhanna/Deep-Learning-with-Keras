{
 "cells": [
  {
   "cell_type": "markdown",
   "id": "83b4c15d",
   "metadata": {},
   "source": [
    "#### Installing keras:\n",
    "\n",
    "1. The pip way of installing:\n",
    "\n",
    "    `pip install keras`\n",
    "    \n",
    "\n",
    "\n",
    "2. The conda/anaconda way of installing:\n",
    "\n",
    "    `conda install keras`"
   ]
  },
  {
   "cell_type": "markdown",
   "id": "4036b285",
   "metadata": {},
   "source": [
    "Importing keras:"
   ]
  },
  {
   "cell_type": "code",
   "execution_count": 1,
   "id": "7c871468",
   "metadata": {},
   "outputs": [],
   "source": [
    "import keras"
   ]
  },
  {
   "cell_type": "markdown",
   "id": "6ff05af7",
   "metadata": {},
   "source": [
    "Checking the version of keras that is installed on the machine:"
   ]
  },
  {
   "cell_type": "code",
   "execution_count": 2,
   "id": "510463d3",
   "metadata": {},
   "outputs": [
    {
     "data": {
      "text/plain": [
       "'2.6.0'"
      ]
     },
     "execution_count": 2,
     "metadata": {},
     "output_type": "execute_result"
    }
   ],
   "source": [
    "keras.__version__"
   ]
  },
  {
   "cell_type": "markdown",
   "id": "acd4c33f",
   "metadata": {},
   "source": [
    "Defining a neural network using the Sequential API:"
   ]
  },
  {
   "cell_type": "code",
   "execution_count": 3,
   "id": "73d6f83b",
   "metadata": {},
   "outputs": [],
   "source": [
    "from keras.models import Sequential # Helps us in building a stacked layered sequential neural network.\n",
    "from keras.layers import Dense # Helps us in creating fully connected layers in the neural network.\n",
    "\n",
    "# creating a sequential neural network model:\n",
    "model = Sequential() # An object of the class Sequential from the keras.models module.\n",
    "\n",
    "# Adding layers to the sequential neural network:\n",
    "# Input Layer:\n",
    "model.add( # .add method helps in adding new layers to the neural network.\n",
    "    Dense( # defining a fully connected layer.\n",
    "        2, # defining the no. of neuros in the layer.\n",
    "        input_shape=(13,), # If the layer is an input layer then we define the input layer.\n",
    "        activation='relu' # defines the choice of the activation function to be used at this layer.\n",
    "    ) \n",
    ")\n",
    "\n",
    "# Hidden Layer:\n",
    "model.add(Dense(10, activation='relu'))\n",
    "\n",
    "# Output Layer:\n",
    "model.add(Dense(1))"
   ]
  },
  {
   "cell_type": "markdown",
   "id": "e2d6f956",
   "metadata": {},
   "source": [
    "Checking the configuration of the layers in the defined neural network:"
   ]
  },
  {
   "cell_type": "code",
   "execution_count": 4,
   "id": "920e8d07",
   "metadata": {},
   "outputs": [
    {
     "name": "stdout",
     "output_type": "stream",
     "text": [
      "Model: \"sequential\"\n",
      "_________________________________________________________________\n",
      "Layer (type)                 Output Shape              Param #   \n",
      "=================================================================\n",
      "dense (Dense)                (None, 2)                 28        \n",
      "_________________________________________________________________\n",
      "dense_1 (Dense)              (None, 10)                30        \n",
      "_________________________________________________________________\n",
      "dense_2 (Dense)              (None, 1)                 11        \n",
      "=================================================================\n",
      "Total params: 69\n",
      "Trainable params: 69\n",
      "Non-trainable params: 0\n",
      "_________________________________________________________________\n"
     ]
    }
   ],
   "source": [
    "model.summary()"
   ]
  },
  {
   "cell_type": "markdown",
   "id": "a3e99ba1",
   "metadata": {},
   "source": [
    "Compiling a keras Sequential model:\n",
    "\n",
    "    Each model must be compiled before it can be trained."
   ]
  },
  {
   "cell_type": "code",
   "execution_count": 5,
   "id": "81af416a",
   "metadata": {},
   "outputs": [],
   "source": [
    "# Compiling a keras model:\n",
    "model.compile(\n",
    "    optimizer='adam', # Choice of the optimizer to be used.\n",
    "    loss='mse' # Choice of the loss function to be used.\n",
    ")"
   ]
  },
  {
   "cell_type": "markdown",
   "id": "b1a98996",
   "metadata": {},
   "source": [
    "Training a compiled keras model:"
   ]
  },
  {
   "cell_type": "code",
   "execution_count": 10,
   "id": "4ed8a0ae",
   "metadata": {},
   "outputs": [
    {
     "name": "stdout",
     "output_type": "stream",
     "text": [
      "Epoch 1/5\n",
      "13/13 [==============================] - 0s 3ms/step - loss: 580.1158\n",
      "Epoch 2/5\n",
      "13/13 [==============================] - 0s 3ms/step - loss: 579.5395\n",
      "Epoch 3/5\n",
      "13/13 [==============================] - 0s 3ms/step - loss: 578.9662\n",
      "Epoch 4/5\n",
      "13/13 [==============================] - 0s 3ms/step - loss: 578.3918\n",
      "Epoch 5/5\n",
      "13/13 [==============================] - 0s 3ms/step - loss: 577.8119\n"
     ]
    },
    {
     "data": {
      "text/plain": [
       "<keras.callbacks.History at 0x2a558e1bca0>"
      ]
     },
     "execution_count": 10,
     "metadata": {},
     "output_type": "execute_result"
    }
   ],
   "source": [
    "# For training the model we need training data and we will be using the Boston Housing price prediction using regression dataset:\n",
    "\n",
    "# Getting the training data:\n",
    "from keras.datasets import boston_housing\n",
    "\n",
    "training_dataset, test_dataset = boston_housing.load_data() # This will create the training and testing data.\n",
    "\n",
    "x_train = training_dataset[0]\n",
    "y_train = training_dataset[1]\n",
    "x_test = test_dataset[0]\n",
    "y_test = test_dataset[1]\n",
    "\n",
    "# Training the neural network:\n",
    "model.fit(\n",
    "    x_train, # x matrix or indipenent variables for the training dataset.\n",
    "    y_train, # y vector or labels for the training dataset.\n",
    "    epochs=5 # The no. of times the entire data should pass through the neural network.\n",
    "    )\n",
    "\n"
   ]
  },
  {
   "cell_type": "markdown",
   "id": "24fc6dfb",
   "metadata": {},
   "source": [
    "Making predictions using the trained model:"
   ]
  },
  {
   "cell_type": "code",
   "execution_count": 11,
   "id": "f80e29b8",
   "metadata": {},
   "outputs": [
    {
     "data": {
      "text/plain": [
       "array([[0.19413075],\n",
       "       [0.19413075],\n",
       "       [0.19413075],\n",
       "       [0.19413075],\n",
       "       [0.19413075],\n",
       "       [0.19413075],\n",
       "       [0.19413075],\n",
       "       [0.19413075],\n",
       "       [0.19413075],\n",
       "       [0.19413075],\n",
       "       [0.19413075],\n",
       "       [0.19413075],\n",
       "       [0.19413075],\n",
       "       [0.19413075],\n",
       "       [0.19413075],\n",
       "       [0.19413075],\n",
       "       [0.19413075],\n",
       "       [0.19413075],\n",
       "       [0.19413075],\n",
       "       [0.19413075],\n",
       "       [0.19413075],\n",
       "       [0.19413075],\n",
       "       [0.19413075],\n",
       "       [0.19413075],\n",
       "       [0.19413075],\n",
       "       [0.19413075],\n",
       "       [0.19413075],\n",
       "       [0.19413075],\n",
       "       [0.19413075],\n",
       "       [0.19413075],\n",
       "       [0.19413075],\n",
       "       [0.19413075],\n",
       "       [0.19413075],\n",
       "       [0.19413075],\n",
       "       [0.19413075],\n",
       "       [0.19413075],\n",
       "       [0.19413075],\n",
       "       [0.19413075],\n",
       "       [0.19413075],\n",
       "       [0.19413075],\n",
       "       [0.19413075],\n",
       "       [0.19413075],\n",
       "       [0.19413075],\n",
       "       [0.19413075],\n",
       "       [0.19413075],\n",
       "       [0.19413075],\n",
       "       [0.19413075],\n",
       "       [0.19413075],\n",
       "       [0.19413075],\n",
       "       [0.19413075],\n",
       "       [0.19413075],\n",
       "       [0.19413075],\n",
       "       [0.19413075],\n",
       "       [0.19413075],\n",
       "       [0.19413075],\n",
       "       [0.19413075],\n",
       "       [0.19413075],\n",
       "       [0.19413075],\n",
       "       [0.19413075],\n",
       "       [0.19413075],\n",
       "       [0.19413075],\n",
       "       [0.19413075],\n",
       "       [0.19413075],\n",
       "       [0.19413075],\n",
       "       [0.19413075],\n",
       "       [0.19413075],\n",
       "       [0.19413075],\n",
       "       [0.19413075],\n",
       "       [0.19413075],\n",
       "       [0.19413075],\n",
       "       [0.19413075],\n",
       "       [0.19413075],\n",
       "       [0.19413075],\n",
       "       [0.19413075],\n",
       "       [0.19413075],\n",
       "       [0.19413075],\n",
       "       [0.19413075],\n",
       "       [0.19413075],\n",
       "       [0.19413075],\n",
       "       [0.19413075],\n",
       "       [0.19413075],\n",
       "       [0.19413075],\n",
       "       [0.19413075],\n",
       "       [0.19413075],\n",
       "       [0.19413075],\n",
       "       [0.19413075],\n",
       "       [0.19413075],\n",
       "       [0.19413075],\n",
       "       [0.19413075],\n",
       "       [0.19413075],\n",
       "       [0.19413075],\n",
       "       [0.19413075],\n",
       "       [0.19413075],\n",
       "       [0.19413075],\n",
       "       [0.19413075],\n",
       "       [0.19413075],\n",
       "       [0.19413075],\n",
       "       [0.19413075],\n",
       "       [0.19413075],\n",
       "       [0.19413075],\n",
       "       [0.19413075],\n",
       "       [0.19413075]], dtype=float32)"
      ]
     },
     "execution_count": 11,
     "metadata": {},
     "output_type": "execute_result"
    }
   ],
   "source": [
    "predicted_value = model.predict(x_test)\n",
    "\n",
    "# Looking at the predicted values:\n",
    "predicted_value # Predictions are just numbers in a numpy array."
   ]
  },
  {
   "cell_type": "code",
   "execution_count": 12,
   "id": "9b069185",
   "metadata": {},
   "outputs": [
    {
     "name": "stdout",
     "output_type": "stream",
     "text": [
      "4/4 [==============================] - 0s 1ms/step - loss: 606.9351\n"
     ]
    },
    {
     "data": {
      "text/plain": [
       "606.93505859375"
      ]
     },
     "execution_count": 12,
     "metadata": {},
     "output_type": "execute_result"
    }
   ],
   "source": [
    "# Checking the performance of the neural network:\n",
    "model.evaluate(x_test, y_test) # It runs a feedforward model. "
   ]
  },
  {
   "cell_type": "markdown",
   "id": "243a9067",
   "metadata": {},
   "source": [
    "Our model has a Mean Squred Error of 606.93"
   ]
  },
  {
   "cell_type": "markdown",
   "id": "cbfff7f8",
   "metadata": {},
   "source": [
    "The above code was the representation of the keras neural network for the Regression usecase."
   ]
  }
 ],
 "metadata": {
  "kernelspec": {
   "display_name": "Python 3 (ipykernel)",
   "language": "python",
   "name": "python3"
  },
  "language_info": {
   "codemirror_mode": {
    "name": "ipython",
    "version": 3
   },
   "file_extension": ".py",
   "mimetype": "text/x-python",
   "name": "python",
   "nbconvert_exporter": "python",
   "pygments_lexer": "ipython3",
   "version": "3.8.12"
  }
 },
 "nbformat": 4,
 "nbformat_minor": 5
}

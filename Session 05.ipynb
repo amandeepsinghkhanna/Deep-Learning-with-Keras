{
 "cells": [
  {
   "cell_type": "markdown",
   "metadata": {},
   "source": [
    "Dealing with different activation functions:"
   ]
  },
  {
   "cell_type": "code",
   "execution_count": 1,
   "metadata": {},
   "outputs": [
    {
     "name": "stdout",
     "output_type": "stream",
     "text": [
      "Training Dimensions (1000, 60) (1000,)\n",
      "Test Dimensions (10, 60) (10,)\n"
     ]
    }
   ],
   "source": [
    "# Import Statements:\n",
    "import pandas as pd\n",
    "from keras.models import Sequential\n",
    "from keras.layers import Dense\n",
    "from sklearn.datasets import make_classification\n",
    "\n",
    "# List of multiple activation functions:\n",
    "activation_functions = ['relu', 'leaky_relu', 'sigmoid', 'tanh']\n",
    "\n",
    "# Creating the classification dataset:\n",
    "x_train, y_train = make_classification(n_samples=1000, n_features=60, n_classes=2, random_state=1024)\n",
    "print(\"Training Dimensions\", x_train.shape, y_train.shape)\n",
    "\n",
    "x_test, y_test = make_classification(n_samples=10, n_features=60, n_classes=2, random_state=231)\n",
    "print(\"Test Dimensions\", x_test.shape, y_test.shape)\n"
   ]
  },
  {
   "cell_type": "code",
   "execution_count": 2,
   "metadata": {},
   "outputs": [],
   "source": [
    "# User-defined function to create a model with the given activation function:\n",
    "def create_model(activation_function):\n",
    "    model = Sequential()\n",
    "    model.add(Dense(100, input_shape=(60,), activation=activation_function))\n",
    "    model.add(Dense(10, activation=activation_function))\n",
    "    model.add(Dense(1, activation='sigmoid'))\n",
    "    model.compile()\n",
    "    # Compiling the model:\n",
    "    model.compile(optimizer='adam', loss='binary_crossentropy')\n",
    "    return model"
   ]
  },
  {
   "cell_type": "code",
   "execution_count": 3,
   "metadata": {},
   "outputs": [
    {
     "name": "stdout",
     "output_type": "stream",
     "text": [
      "Building a model with the relu activation function\n",
      "Building a model with the leaky_relu activation function\n",
      "Building a model with the sigmoid activation function\n",
      "Building a model with the tanh activation function\n"
     ]
    }
   ],
   "source": [
    "# Running our model for every activation function:\n",
    "model_metrics = {}\n",
    "\n",
    "for activation_function in activation_functions:\n",
    "    print('Building a model with the', activation_function, 'activation function')\n",
    "    model = create_model(activation_function)\n",
    "    history = model.fit(x_train, y_train, validation_data=(x_test, y_test), epochs=10, verbose=0)\n",
    "    model_metrics[activation_function] = history"
   ]
  },
  {
   "cell_type": "code",
   "execution_count": 4,
   "metadata": {},
   "outputs": [
    {
     "data": {
      "text/plain": [
       "{'relu': <keras.callbacks.History at 0x216867eaf40>,\n",
       " 'leaky_relu': <keras.callbacks.History at 0x21687ffd5e0>,\n",
       " 'sigmoid': <keras.callbacks.History at 0x216986a26d0>,\n",
       " 'tanh': <keras.callbacks.History at 0x216a8185580>}"
      ]
     },
     "execution_count": 4,
     "metadata": {},
     "output_type": "execute_result"
    }
   ],
   "source": [
    "model_metrics"
   ]
  },
  {
   "cell_type": "code",
   "execution_count": 5,
   "metadata": {},
   "outputs": [
    {
     "data": {
      "text/plain": [
       "{'relu': [0.7022806406021118,\n",
       "  0.7129681706428528,\n",
       "  0.778867244720459,\n",
       "  0.8100436329841614,\n",
       "  0.8527237176895142,\n",
       "  0.8611592054367065,\n",
       "  0.8940156698226929,\n",
       "  0.9351881146430969,\n",
       "  0.9565418362617493,\n",
       "  0.9799801111221313],\n",
       " 'leaky_relu': [0.8511912226676941,\n",
       "  0.9073499441146851,\n",
       "  0.9476418495178223,\n",
       "  0.9573987126350403,\n",
       "  0.9915250539779663,\n",
       "  0.9644073247909546,\n",
       "  1.0485951900482178,\n",
       "  1.046303629875183,\n",
       "  1.0607330799102783,\n",
       "  1.0833646059036255],\n",
       " 'sigmoid': [0.6673643589019775,\n",
       "  0.6657456159591675,\n",
       "  0.6616894006729126,\n",
       "  0.6620763540267944,\n",
       "  0.6633335947990417,\n",
       "  0.673573911190033,\n",
       "  0.6996126770973206,\n",
       "  0.7169848680496216,\n",
       "  0.7465923428535461,\n",
       "  0.7728911638259888],\n",
       " 'tanh': [0.6174003481864929,\n",
       "  0.6272603273391724,\n",
       "  0.7249354720115662,\n",
       "  0.7992593050003052,\n",
       "  0.8724481463432312,\n",
       "  0.9499832391738892,\n",
       "  0.9054082036018372,\n",
       "  0.8914161920547485,\n",
       "  0.9403918385505676,\n",
       "  0.9440397024154663]}"
      ]
     },
     "execution_count": 5,
     "metadata": {},
     "output_type": "execute_result"
    }
   ],
   "source": [
    "model_metrics = { activation_function:metric.history['val_loss'] for activation_function, metric in model_metrics.items()}\n",
    "model_metrics"
   ]
  },
  {
   "cell_type": "code",
   "execution_count": 7,
   "metadata": {},
   "outputs": [
    {
     "data": {
      "text/html": [
       "<div>\n",
       "<style scoped>\n",
       "    .dataframe tbody tr th:only-of-type {\n",
       "        vertical-align: middle;\n",
       "    }\n",
       "\n",
       "    .dataframe tbody tr th {\n",
       "        vertical-align: top;\n",
       "    }\n",
       "\n",
       "    .dataframe thead th {\n",
       "        text-align: right;\n",
       "    }\n",
       "</style>\n",
       "<table border=\"1\" class=\"dataframe\">\n",
       "  <thead>\n",
       "    <tr style=\"text-align: right;\">\n",
       "      <th></th>\n",
       "      <th>relu</th>\n",
       "      <th>leaky_relu</th>\n",
       "      <th>sigmoid</th>\n",
       "      <th>tanh</th>\n",
       "    </tr>\n",
       "  </thead>\n",
       "  <tbody>\n",
       "    <tr>\n",
       "      <th>0</th>\n",
       "      <td>0.702281</td>\n",
       "      <td>0.851191</td>\n",
       "      <td>0.667364</td>\n",
       "      <td>0.617400</td>\n",
       "    </tr>\n",
       "    <tr>\n",
       "      <th>1</th>\n",
       "      <td>0.712968</td>\n",
       "      <td>0.907350</td>\n",
       "      <td>0.665746</td>\n",
       "      <td>0.627260</td>\n",
       "    </tr>\n",
       "    <tr>\n",
       "      <th>2</th>\n",
       "      <td>0.778867</td>\n",
       "      <td>0.947642</td>\n",
       "      <td>0.661689</td>\n",
       "      <td>0.724935</td>\n",
       "    </tr>\n",
       "    <tr>\n",
       "      <th>3</th>\n",
       "      <td>0.810044</td>\n",
       "      <td>0.957399</td>\n",
       "      <td>0.662076</td>\n",
       "      <td>0.799259</td>\n",
       "    </tr>\n",
       "    <tr>\n",
       "      <th>4</th>\n",
       "      <td>0.852724</td>\n",
       "      <td>0.991525</td>\n",
       "      <td>0.663334</td>\n",
       "      <td>0.872448</td>\n",
       "    </tr>\n",
       "    <tr>\n",
       "      <th>5</th>\n",
       "      <td>0.861159</td>\n",
       "      <td>0.964407</td>\n",
       "      <td>0.673574</td>\n",
       "      <td>0.949983</td>\n",
       "    </tr>\n",
       "    <tr>\n",
       "      <th>6</th>\n",
       "      <td>0.894016</td>\n",
       "      <td>1.048595</td>\n",
       "      <td>0.699613</td>\n",
       "      <td>0.905408</td>\n",
       "    </tr>\n",
       "    <tr>\n",
       "      <th>7</th>\n",
       "      <td>0.935188</td>\n",
       "      <td>1.046304</td>\n",
       "      <td>0.716985</td>\n",
       "      <td>0.891416</td>\n",
       "    </tr>\n",
       "    <tr>\n",
       "      <th>8</th>\n",
       "      <td>0.956542</td>\n",
       "      <td>1.060733</td>\n",
       "      <td>0.746592</td>\n",
       "      <td>0.940392</td>\n",
       "    </tr>\n",
       "    <tr>\n",
       "      <th>9</th>\n",
       "      <td>0.979980</td>\n",
       "      <td>1.083365</td>\n",
       "      <td>0.772891</td>\n",
       "      <td>0.944040</td>\n",
       "    </tr>\n",
       "  </tbody>\n",
       "</table>\n",
       "</div>"
      ],
      "text/plain": [
       "       relu  leaky_relu   sigmoid      tanh\n",
       "0  0.702281    0.851191  0.667364  0.617400\n",
       "1  0.712968    0.907350  0.665746  0.627260\n",
       "2  0.778867    0.947642  0.661689  0.724935\n",
       "3  0.810044    0.957399  0.662076  0.799259\n",
       "4  0.852724    0.991525  0.663334  0.872448\n",
       "5  0.861159    0.964407  0.673574  0.949983\n",
       "6  0.894016    1.048595  0.699613  0.905408\n",
       "7  0.935188    1.046304  0.716985  0.891416\n",
       "8  0.956542    1.060733  0.746592  0.940392\n",
       "9  0.979980    1.083365  0.772891  0.944040"
      ]
     },
     "execution_count": 7,
     "metadata": {},
     "output_type": "execute_result"
    }
   ],
   "source": [
    "model_metrics_df = pd.DataFrame(model_metrics)\n",
    "model_metrics_df"
   ]
  },
  {
   "cell_type": "code",
   "execution_count": 11,
   "metadata": {},
   "outputs": [
    {
     "data": {
      "text/plain": [
       "<AxesSubplot:title={'center':'Loss per activation function:'}>"
      ]
     },
     "execution_count": 11,
     "metadata": {},
     "output_type": "execute_result"
    },
    {
     "data": {
      "image/png": "[encoded data removed]",
      "text/plain": [
       "<Figure size 1080x576 with 1 Axes>"
      ]
     },
     "metadata": {
      "needs_background": "light"
     },
     "output_type": "display_data"
    }
   ],
   "source": [
    "model_metrics_df.plot(figsize=(15, 8), grid=True, title=\"Loss per activation function:\")"
   ]
  },
  {
   "cell_type": "markdown",
   "metadata": {},
   "source": [
    "Sigmoid activation function has the lowest validation loss."
   ]
  }
 ],
 "metadata": {
  "interpreter": {
   "hash": "6db09f8783d8e538cd60f174403c0c9a96dce6f60d996f6637bef8e6a2295b22"
  },
  "kernelspec": {
   "display_name": "Python 3.8.12 ('deeplearning')",
   "language": "python",
   "name": "python3"
  },
  "language_info": {
   "codemirror_mode": {
    "name": "ipython",
    "version": 3
   },
   "file_extension": ".py",
   "mimetype": "text/x-python",
   "name": "python",
   "nbconvert_exporter": "python",
   "pygments_lexer": "ipython3",
   "version": "3.8.12"
  },
  "orig_nbformat": 4
 },
 "nbformat": 4,
 "nbformat_minor": 2
}

{
 "cells": [
  {
   "cell_type": "markdown",
   "metadata": {},
   "source": [
    "Multi-class classification using a keras neural network:"
   ]
  },
  {
   "cell_type": "code",
   "execution_count": 6,
   "metadata": {},
   "outputs": [
    {
     "name": "stdout",
     "output_type": "stream",
     "text": [
      "Dimensions of x before one-hot encoding are: (150, 4)\n",
      "Dimensions of y before one-hot encoding are: (150,)\n",
      "Dimensions of x after one-hot encoding are: (150, 4)\n",
      "Dimensions of encoded_y are: (150, 3)\n"
     ]
    }
   ],
   "source": [
    "# Importing the required modules:\n",
    "from keras.models import Sequential\n",
    "from keras.layers import Dense\n",
    "from sklearn.datasets import load_iris\n",
    "from sklearn.preprocessing import OneHotEncoder # To apply one-hot encoding on the target.\n",
    "from sklearn.model_selection import train_test_split\n",
    "\n",
    "# Loading the input data:\n",
    "x, y = load_iris(return_X_y=True)\n",
    "\n",
    "print(\"Dimensions of x before one-hot encoding are:\", x.shape)\n",
    "print(\"Dimensions of y before one-hot encoding are:\", y.shape)\n",
    "\n",
    "# Applying one-hot encoding on the target column:\n",
    "encoder = OneHotEncoder()\n",
    "encoded_y = (\n",
    "    encoder\n",
    "    .fit_transform(y.reshape(-1, 1))\n",
    "    .todense()\n",
    ")\n",
    "\n",
    "print(\"Dimensions of x after one-hot encoding are:\", x.shape)\n",
    "print(\"Dimensions of encoded_y are:\", encoded_y.shape)\n",
    "\n",
    "# Splitting the input data into training and testing datasets: \n",
    "x_train, x_test, y_train, y_test = train_test_split(\n",
    "    x, encoded_y,\n",
    "    test_size=0.25,\n",
    "    random_state=1024\n",
    ")\n",
    "\n",
    "# Defining the keras neural network:\n",
    "model = Sequential()\n",
    "\n",
    "# Input layer:\n",
    "model.add(Dense(10, input_shape=(4,)))\n",
    "\n",
    "# Hidden Layer:\n",
    "model.add(Dense(100, activation='relu'))\n",
    "\n",
    "# Output Layer:\n",
    "model.add(Dense(3, activation='softmax'))"
   ]
  },
  {
   "cell_type": "code",
   "execution_count": 7,
   "metadata": {},
   "outputs": [],
   "source": [
    "# Compiling the neural network:\n",
    "model.compile(optimizer='adam', loss='categorical_crossentropy')"
   ]
  },
  {
   "cell_type": "code",
   "execution_count": 8,
   "metadata": {},
   "outputs": [
    {
     "name": "stdout",
     "output_type": "stream",
     "text": [
      "Model: \"sequential_1\"\n",
      "_________________________________________________________________\n",
      "Layer (type)                 Output Shape              Param #   \n",
      "=================================================================\n",
      "dense (Dense)                (None, 10)                50        \n",
      "_________________________________________________________________\n",
      "dense_1 (Dense)              (None, 100)               1100      \n",
      "_________________________________________________________________\n",
      "dense_2 (Dense)              (None, 3)                 303       \n",
      "=================================================================\n",
      "Total params: 1,453\n",
      "Trainable params: 1,453\n",
      "Non-trainable params: 0\n",
      "_________________________________________________________________\n"
     ]
    }
   ],
   "source": [
    "# Checking the structure of the neural network:\n",
    "model.summary()"
   ]
  },
  {
   "cell_type": "code",
   "execution_count": 10,
   "metadata": {},
   "outputs": [
    {
     "name": "stdout",
     "output_type": "stream",
     "text": [
      "Epoch 1/10\n",
      "4/4 [==============================] - 0s 6ms/step - loss: 1.1411\n",
      "Epoch 2/10\n",
      "4/4 [==============================] - 0s 2ms/step - loss: 1.0522\n",
      "Epoch 3/10\n",
      "4/4 [==============================] - 0s 2ms/step - loss: 0.9886\n",
      "Epoch 4/10\n",
      "4/4 [==============================] - 0s 9ms/step - loss: 0.9272\n",
      "Epoch 5/10\n",
      "4/4 [==============================] - 0s 3ms/step - loss: 0.8702\n",
      "Epoch 6/10\n",
      "4/4 [==============================] - 0s 2ms/step - loss: 0.8232\n",
      "Epoch 7/10\n",
      "4/4 [==============================] - 0s 4ms/step - loss: 0.7810\n",
      "Epoch 8/10\n",
      "4/4 [==============================] - 0s 2ms/step - loss: 0.7413\n",
      "Epoch 9/10\n",
      "4/4 [==============================] - 0s 3ms/step - loss: 0.7059\n",
      "Epoch 10/10\n",
      "4/4 [==============================] - 0s 4ms/step - loss: 0.6712\n"
     ]
    },
    {
     "data": {
      "text/plain": [
       "<keras.callbacks.History at 0x1b4f2632f70>"
      ]
     },
     "execution_count": 10,
     "metadata": {},
     "output_type": "execute_result"
    }
   ],
   "source": [
    "# Training the neural network:\n",
    "model.fit(x_train, y_train, epochs=10)"
   ]
  },
  {
   "cell_type": "code",
   "execution_count": 11,
   "metadata": {},
   "outputs": [
    {
     "name": "stdout",
     "output_type": "stream",
     "text": [
      "2/2 [==============================] - 0s 2ms/step - loss: 0.6582\n"
     ]
    },
    {
     "data": {
      "text/plain": [
       "0.6582369804382324"
      ]
     },
     "execution_count": 11,
     "metadata": {},
     "output_type": "execute_result"
    }
   ],
   "source": [
    "# Evaluating the performance of the model:\n",
    "model.evaluate(x_test, y_test)"
   ]
  },
  {
   "cell_type": "code",
   "execution_count": 13,
   "metadata": {},
   "outputs": [],
   "source": [
    "# Making predictions from the model:\n",
    "predictions = model.predict(x_test)"
   ]
  },
  {
   "cell_type": "code",
   "execution_count": 14,
   "metadata": {},
   "outputs": [
    {
     "data": {
      "text/plain": [
       "array([[0.24060379, 0.42331204, 0.33608416],\n",
       "       [0.5174396 , 0.32188222, 0.16067812],\n",
       "       [0.05516191, 0.3355785 , 0.60925955],\n",
       "       [0.08045462, 0.3325461 , 0.5869993 ],\n",
       "       [0.55426115, 0.30475372, 0.14098507],\n",
       "       [0.594861  , 0.2841473 , 0.12099178],\n",
       "       [0.17922966, 0.4529706 , 0.36779973],\n",
       "       [0.07020771, 0.34065884, 0.58913344],\n",
       "       [0.1254967 , 0.37487695, 0.4996263 ],\n",
       "       [0.5635384 , 0.29761073, 0.13885087],\n",
       "       [0.64290005, 0.2530142 , 0.1040858 ],\n",
       "       [0.5371879 , 0.31894106, 0.14387102],\n",
       "       [0.19837262, 0.4486353 , 0.35299215],\n",
       "       [0.06390031, 0.32176635, 0.61433333],\n",
       "       [0.12463443, 0.41361082, 0.46175474],\n",
       "       [0.608942  , 0.27487707, 0.11618096],\n",
       "       [0.18732369, 0.45884308, 0.3538332 ],\n",
       "       [0.5680607 , 0.29088786, 0.14105144],\n",
       "       [0.07729994, 0.31420597, 0.60849404],\n",
       "       [0.5535462 , 0.3058823 , 0.14057152],\n",
       "       [0.0706246 , 0.32601026, 0.6033651 ],\n",
       "       [0.6071618 , 0.273086  , 0.11975212],\n",
       "       [0.28701666, 0.4247166 , 0.28826678],\n",
       "       [0.5683923 , 0.30527166, 0.12633607],\n",
       "       [0.07131917, 0.33552057, 0.5931603 ],\n",
       "       [0.17295359, 0.42564484, 0.40140152],\n",
       "       [0.07011345, 0.3118316 , 0.6180549 ],\n",
       "       [0.07485508, 0.35029796, 0.574847  ],\n",
       "       [0.05926882, 0.30852184, 0.63220936],\n",
       "       [0.11420893, 0.40246338, 0.48332766],\n",
       "       [0.11644915, 0.3562903 , 0.5272605 ],\n",
       "       [0.10664152, 0.3758197 , 0.5175387 ],\n",
       "       [0.08803292, 0.36892423, 0.54304284],\n",
       "       [0.08342814, 0.3261756 , 0.5903963 ],\n",
       "       [0.19859612, 0.4348828 , 0.36652106],\n",
       "       [0.09450568, 0.35949793, 0.54599637],\n",
       "       [0.21407495, 0.44766092, 0.33826414],\n",
       "       [0.17744353, 0.4459882 , 0.3765683 ]], dtype=float32)"
      ]
     },
     "execution_count": 14,
     "metadata": {},
     "output_type": "execute_result"
    }
   ],
   "source": [
    "predictions # A glimpse of the predictions."
   ]
  },
  {
   "cell_type": "code",
   "execution_count": 16,
   "metadata": {},
   "outputs": [
    {
     "data": {
      "text/plain": [
       "array([1, 0, 2, 2, 0, 0, 1, 2, 2, 0, 0, 0, 1, 2, 2, 0, 1, 0, 2, 0, 2, 0,\n",
       "       1, 0, 2, 1, 2, 2, 2, 2, 2, 2, 2, 2, 1, 2, 1, 1], dtype=int64)"
      ]
     },
     "execution_count": 16,
     "metadata": {},
     "output_type": "execute_result"
    }
   ],
   "source": [
    "import numpy as np\n",
    "np.argmax(predictions, axis=1) # Computing the class with maximum value of probability."
   ]
  }
 ],
 "metadata": {
  "interpreter": {
   "hash": "6db09f8783d8e538cd60f174403c0c9a96dce6f60d996f6637bef8e6a2295b22"
  },
  "kernelspec": {
   "display_name": "Python 3.8.12 ('deeplearning')",
   "language": "python",
   "name": "python3"
  },
  "language_info": {
   "codemirror_mode": {
    "name": "ipython",
    "version": 3
   },
   "file_extension": ".py",
   "mimetype": "text/x-python",
   "name": "python",
   "nbconvert_exporter": "python",
   "pygments_lexer": "ipython3",
   "version": "3.8.12"
  },
  "orig_nbformat": 4
 },
 "nbformat": 4,
 "nbformat_minor": 2
}
